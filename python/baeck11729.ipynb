{
 "cells": [
  {
   "cell_type": "code",
   "execution_count": 5,
   "metadata": {},
   "outputs": [
    {
     "name": "stdout",
     "output_type": "stream",
     "text": [
      "3\n",
      "7\n",
      "1 3\n",
      "1 2\n",
      "3 2\n",
      "1 3\n",
      "2 1\n",
      "2 3\n",
      "1 3\n"
     ]
    }
   ],
   "source": [
    "def hanoi(cache, n, start = 1,end = 3):\n",
    "    if n == 1:\n",
    "        cache.append((start,end))\n",
    "    else:\n",
    "        hanoi(cache,n-1,start,6-start-end)\n",
    "        cache.append((start,end))\n",
    "        hanoi(cache,n-1,6-start-end,end)\n",
    "        \n",
    "        \n",
    "my_list = []\n",
    "hanoi(my_list,int(input()))\n",
    "print(len(my_list))\n",
    "for i in my_list:\n",
    "    print(\"{} {}\".format(i[0], i[1]))\n",
    "        "
   ]
  },
  {
   "cell_type": "code",
   "execution_count": null,
   "metadata": {},
   "outputs": [],
   "source": []
  }
 ],
 "metadata": {
  "kernelspec": {
   "display_name": "Python 3",
   "language": "python",
   "name": "python3"
  },
  "language_info": {
   "codemirror_mode": {
    "name": "ipython",
    "version": 3
   },
   "file_extension": ".py",
   "mimetype": "text/x-python",
   "name": "python",
   "nbconvert_exporter": "python",
   "pygments_lexer": "ipython3",
   "version": "3.7.4"
  }
 },
 "nbformat": 4,
 "nbformat_minor": 4
}
