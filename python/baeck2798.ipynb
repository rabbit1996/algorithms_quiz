{
 "cells": [
  {
   "cell_type": "code",
   "execution_count": 1,
   "metadata": {},
   "outputs": [],
   "source": [
    "N = 5\n",
    "M = 21"
   ]
  },
  {
   "cell_type": "code",
   "execution_count": 2,
   "metadata": {},
   "outputs": [],
   "source": [
    "cards = [5,6,7,8,9]"
   ]
  },
  {
   "cell_type": "code",
   "execution_count": 13,
   "metadata": {},
   "outputs": [],
   "source": [
    "max_num = 0"
   ]
  },
  {
   "cell_type": "code",
   "execution_count": 14,
   "metadata": {},
   "outputs": [],
   "source": [
    "for i in range(len(cards)-2):\n",
    "    for j in range(i,len(cards)-1):\n",
    "        for k in range(j,len(cards)):\n",
    "            if cards[i]+cards[j]+cards[k] > M:\n",
    "                continue\n",
    "            if cards[i]+cards[j]+cards[k] > max_num :\n",
    "                max_num = cards[i]+cards[j]+cards[k]\n",
    "\n",
    "                "
   ]
  },
  {
   "cell_type": "code",
   "execution_count": 15,
   "metadata": {},
   "outputs": [
    {
     "data": {
      "text/plain": [
       "21"
      ]
     },
     "execution_count": 15,
     "metadata": {},
     "output_type": "execute_result"
    }
   ],
   "source": [
    "max_num"
   ]
  },
  {
   "cell_type": "code",
   "execution_count": 23,
   "metadata": {},
   "outputs": [
    {
     "name": "stdout",
     "output_type": "stream",
     "text": [
      "10 500\n",
      "93 181 245 214 315 36 185 138 216 295\n",
      "497\n"
     ]
    }
   ],
   "source": [
    "N,M = map(int,input().split())\n",
    "cards = list(map(int, input().split()))\n",
    "max_num = 0\n",
    "for i in range(len(cards)-2):\n",
    "    for j in range(i+1,len(cards)-1):\n",
    "        for k in range(j+1,len(cards)):\n",
    "            if cards[i]+cards[j]+cards[k] > M:\n",
    "                continue\n",
    "            if cards[i]+cards[j]+cards[k] > max_num :\n",
    "                max_num = cards[i]+cards[j]+cards[k]\n",
    "\n",
    "print(max_num)"
   ]
  },
  {
   "cell_type": "code",
   "execution_count": null,
   "metadata": {},
   "outputs": [],
   "source": []
  }
 ],
 "metadata": {
  "kernelspec": {
   "display_name": "Python 3",
   "language": "python",
   "name": "python3"
  },
  "language_info": {
   "codemirror_mode": {
    "name": "ipython",
    "version": 3
   },
   "file_extension": ".py",
   "mimetype": "text/x-python",
   "name": "python",
   "nbconvert_exporter": "python",
   "pygments_lexer": "ipython3",
   "version": "3.7.4"
  }
 },
 "nbformat": 4,
 "nbformat_minor": 4
}
