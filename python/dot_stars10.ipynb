{
 "cells": [
  {
   "cell_type": "code",
   "execution_count": 25,
   "metadata": {},
   "outputs": [],
   "source": [
    "_str = \"\""
   ]
  },
  {
   "cell_type": "code",
   "execution_count": 42,
   "metadata": {},
   "outputs": [],
   "source": [
    "def draw_star(n) :\n",
    "    global Map\n",
    "    \n",
    "    if n == 3 :\n",
    "        Map[0][:3] = Map[2][:3] = [1]*3\n",
    "        Map[1][:3] = [1, 0, 1]\n",
    "        return\n",
    "\n",
    "    a = n//3\n",
    "    draw_star(n//3)\n",
    "    for i in range(3) :\n",
    "        for j in range(3) :\n",
    "            if i == 1 and j == 1 :\n",
    "                continue\n",
    "            for k in range(a) :\n",
    "                Map[a*i+k][a*j:a*(j+1)] = Map[k][:a] # 핵심 아이디어\n",
    "\n",
    "N = int(input())      \n",
    "\n",
    "# 메인 데이터 선언\n",
    "Map = [[0 for i in range(N)] for i in range(N)]\n",
    "\n",
    "draw_star(N)\n",
    "\n",
    "for i in Map :\n",
    "    for j in i :\n",
    "        if j :\n",
    "            print('*', end = '')\n",
    "        else :\n",
    "            print(' ', end = '')\n",
    "    print()"
   ]
  },
  {
   "cell_type": "code",
   "execution_count": 44,
   "metadata": {},
   "outputs": [
    {
     "name": "stdout",
     "output_type": "stream",
     "text": [
      "*********\n",
      "* ** ** *\n",
      "*********\n",
      "*********\n",
      "* *   * *\n",
      "*********\n",
      "*********\n",
      "* ** ** *\n",
      "*********\n"
     ]
    },
    {
     "ename": "TypeError",
     "evalue": "can only concatenate str (not \"NoneType\") to str",
     "output_type": "error",
     "traceback": [
      "\u001b[1;31m---------------------------------------------------------------------------\u001b[0m",
      "\u001b[1;31mTypeError\u001b[0m                                 Traceback (most recent call last)",
      "\u001b[1;32m<ipython-input-44-2b17136c50cf>\u001b[0m in \u001b[0;36m<module>\u001b[1;34m\u001b[0m\n\u001b[1;32m----> 1\u001b[1;33m \u001b[0mdot_stars\u001b[0m\u001b[1;33m(\u001b[0m\u001b[1;36m3\u001b[0m\u001b[1;33m,\u001b[0m\u001b[1;36m0\u001b[0m\u001b[1;33m)\u001b[0m\u001b[1;33m\u001b[0m\u001b[1;33m\u001b[0m\u001b[0m\n\u001b[0m",
      "\u001b[1;32m<ipython-input-42-2ffef85e241a>\u001b[0m in \u001b[0;36mdot_stars\u001b[1;34m(k, i)\u001b[0m\n\u001b[0;32m     12\u001b[0m                     \u001b[0m_str\u001b[0m \u001b[1;33m+=\u001b[0m \u001b[1;34m\"   \"\u001b[0m\u001b[1;33m\u001b[0m\u001b[1;33m\u001b[0m\u001b[0m\n\u001b[0;32m     13\u001b[0m                 \u001b[1;32melse\u001b[0m\u001b[1;33m:\u001b[0m\u001b[1;33m\u001b[0m\u001b[1;33m\u001b[0m\u001b[0m\n\u001b[1;32m---> 14\u001b[1;33m                     \u001b[0m_str\u001b[0m \u001b[1;33m+=\u001b[0m \u001b[0mdot_stars\u001b[0m\u001b[1;33m(\u001b[0m\u001b[0mk\u001b[0m\u001b[1;33m-\u001b[0m\u001b[1;36m1\u001b[0m\u001b[1;33m,\u001b[0m\u001b[0mj\u001b[0m\u001b[1;33m)\u001b[0m\u001b[1;33m\u001b[0m\u001b[1;33m\u001b[0m\u001b[0m\n\u001b[0m\u001b[0;32m     15\u001b[0m             \u001b[0mprint\u001b[0m\u001b[1;33m(\u001b[0m\u001b[0m_str\u001b[0m\u001b[1;33m)\u001b[0m\u001b[1;33m\u001b[0m\u001b[1;33m\u001b[0m\u001b[0m\n",
      "\u001b[1;31mTypeError\u001b[0m: can only concatenate str (not \"NoneType\") to str"
     ]
    }
   ],
   "source": [
    "dot_stars(3,0)"
   ]
  },
  {
   "cell_type": "code",
   "execution_count": null,
   "metadata": {},
   "outputs": [],
   "source": []
  }
 ],
 "metadata": {
  "kernelspec": {
   "display_name": "Python 3",
   "language": "python",
   "name": "python3"
  },
  "language_info": {
   "codemirror_mode": {
    "name": "ipython",
    "version": 3
   },
   "file_extension": ".py",
   "mimetype": "text/x-python",
   "name": "python",
   "nbconvert_exporter": "python",
   "pygments_lexer": "ipython3",
   "version": "3.7.4"
  }
 },
 "nbformat": 4,
 "nbformat_minor": 2
}
