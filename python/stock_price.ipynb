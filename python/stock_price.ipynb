{
 "cells": [
  {
   "cell_type": "code",
   "execution_count": 1,
   "metadata": {},
   "outputs": [],
   "source": [
    "prices = [5,5,5,1,1,1,3]"
   ]
  },
  {
   "cell_type": "code",
   "execution_count": null,
   "metadata": {},
   "outputs": [],
   "source": [
    "def solution(prices):\n",
    "    result = [0]*len(prices)\n",
    "    for i,v in enumerate(prices):\n",
    "        for j in range(i+1,len(prices)):\n",
    "            result[i] += 1\n",
    "            if v > prices[j]: break\n",
    "    return result"
   ]
  },
  {
   "cell_type": "code",
   "execution_count": 202,
   "metadata": {},
   "outputs": [],
   "source": [
    "def solution(prices):\n",
    "    queue = []\n",
    "    result = []\n",
    "    count = 0\n",
    "\n",
    "    for i in prices:\n",
    "        count += 1\n",
    "        while len(queue)>0:\n",
    "            if queue[-1][1] > i:\n",
    "                result.append((queue[-1][0]-1,count-queue[-1][0]))\n",
    "                del queue[-1]\n",
    "            else : break\n",
    "        queue.append((count,i))\n",
    "\n",
    "    for i in range(len(queue)):\n",
    "        result.append((queue[0][0]-1,count-queue[0][0]))\n",
    "        del queue[0]\n",
    "\n",
    "    return [x[1] for x in sorted(result)]"
   ]
  },
  {
   "cell_type": "code",
   "execution_count": null,
   "metadata": {},
   "outputs": [],
   "source": []
  }
 ],
 "metadata": {
  "kernelspec": {
   "display_name": "Python 3",
   "language": "python",
   "name": "python3"
  },
  "language_info": {
   "codemirror_mode": {
    "name": "ipython",
    "version": 3
   },
   "file_extension": ".py",
   "mimetype": "text/x-python",
   "name": "python",
   "nbconvert_exporter": "python",
   "pygments_lexer": "ipython3",
   "version": "3.7.4"
  }
 },
 "nbformat": 4,
 "nbformat_minor": 2
}
