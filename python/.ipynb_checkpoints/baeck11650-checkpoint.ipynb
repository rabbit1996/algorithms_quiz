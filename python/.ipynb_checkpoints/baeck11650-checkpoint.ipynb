{
 "cells": [
  {
   "cell_type": "code",
   "execution_count": 6,
   "metadata": {},
   "outputs": [
    {
     "name": "stdout",
     "output_type": "stream",
     "text": [
      "5\n",
      "3 4\n",
      "1 1\n",
      "1 -1\n",
      "2 2\n",
      "3 3\n",
      "1 -1\n",
      "1 1\n",
      "2 2\n",
      "3 3\n",
      "3 4\n"
     ]
    }
   ],
   "source": [
    "N = int(input())\n",
    "my_list = []\n",
    "for _ in range(N):\n",
    "    x,y = map(int,input().split())\n",
    "    my_list.append((x,y))\n",
    "\n",
    "my_list = sorted(my_list, key = lambda x:x[1])\n",
    "my_list = sorted(my_list, key = lambda x:x[0])\n",
    "\n",
    "for i in my_list:\n",
    "    print(\"{} {}\".format(i[0],i[1]))"
   ]
  }
 ],
 "metadata": {
  "kernelspec": {
   "display_name": "Python 3",
   "language": "python",
   "name": "python3"
  },
  "language_info": {
   "codemirror_mode": {
    "name": "ipython",
    "version": 3
   },
   "file_extension": ".py",
   "mimetype": "text/x-python",
   "name": "python",
   "nbconvert_exporter": "python",
   "pygments_lexer": "ipython3",
   "version": "3.7.4"
  }
 },
 "nbformat": 4,
 "nbformat_minor": 4
}
