{
 "cells": [
  {
   "cell_type": "code",
   "execution_count": 55,
   "metadata": {},
   "outputs": [],
   "source": [
    "def distance(l_pos,r_pos,target,hand):\n",
    "    l_dis = (l_pos[0]-target[0])**2+(l_pos[1]-target[1])**2\n",
    "    r_dis = (r_pos[0]-target[0])**2+(r_pos[1]-target[1])**2\n",
    "    \n",
    "    if l_dis < r_dis:\n",
    "        return \"L\",target\n",
    "    elif l_dis > r_dis:\n",
    "\n",
    "        return \"R\", target\n",
    "    else:\n",
    "        if hand == \"left\":\n",
    "            return \"L\",target\n",
    "        else:\n",
    "            return \"R\",target\n",
    "        \n",
    "\n",
    "def solution(numbers, hand):\n",
    "    answer = ''\n",
    "    l_pos = (-1,-2)\n",
    "    r_pos = (1,-2)\n",
    "    num_coordinate = {1:(-1,1),2:(0,1),3:(1,1),4:(-1,0),5:(0,0),6:(1,0),\n",
    "                      7:(-1,-1),8:(0,-1),9:(1,-1),0:(0,-2)}\n",
    "    l_num = [1,4,7]\n",
    "    r_num = [3,6,9]\n",
    "    for i in numbers:\n",
    "        if i in l_num:\n",
    "            answer += \"L\"\n",
    "            l_pos = num_coordinate[i]\n",
    "        elif i in r_num:\n",
    "            answer += \"R\"\n",
    "            r_pos = num_coordinate[i]\n",
    "        else:\n",
    "            temp_answer, temp_pos = distance(l_pos,r_pos,num_coordinate[i],hand)\n",
    "            answer += temp_answer\n",
    "            if temp_answer is \"L\":\n",
    "                l_pos = temp_pos\n",
    "            else:\n",
    "                r_pos = temp_pos\n",
    "        \n",
    "    return answer"
   ]
  },
  {
   "cell_type": "code",
   "execution_count": 63,
   "metadata": {},
   "outputs": [
    {
     "data": {
      "text/plain": [
       "'LRL'"
      ]
     },
     "execution_count": 63,
     "metadata": {},
     "output_type": "execute_result"
    }
   ],
   "source": [
    "numbers = [1,9,5]\n",
    "hand = \"left\"\n",
    "solution(numbers,hand)"
   ]
  },
  {
   "cell_type": "code",
   "execution_count": null,
   "metadata": {},
   "outputs": [],
   "source": []
  },
  {
   "cell_type": "code",
   "execution_count": null,
   "metadata": {},
   "outputs": [],
   "source": []
  }
 ],
 "metadata": {
  "kernelspec": {
   "display_name": "Python 3",
   "language": "python",
   "name": "python3"
  },
  "language_info": {
   "codemirror_mode": {
    "name": "ipython",
    "version": 3
   },
   "file_extension": ".py",
   "mimetype": "text/x-python",
   "name": "python",
   "nbconvert_exporter": "python",
   "pygments_lexer": "ipython3",
   "version": "3.7.4"
  }
 },
 "nbformat": 4,
 "nbformat_minor": 4
}
