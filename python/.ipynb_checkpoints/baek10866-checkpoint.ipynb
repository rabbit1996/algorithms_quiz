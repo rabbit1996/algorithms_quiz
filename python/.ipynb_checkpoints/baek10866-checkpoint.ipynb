{
 "cells": [
  {
   "cell_type": "code",
   "execution_count": 12,
   "metadata": {},
   "outputs": [
    {
     "name": "stdout",
     "output_type": "stream",
     "text": [
      "3\n",
      "empty\n",
      "1\n",
      "push_front 1\n",
      "empty\n",
      "0\n"
     ]
    }
   ],
   "source": [
    "# import sys\n",
    "\n",
    "# input = sys.stdin.readline\n",
    "\n",
    "if __name__ == \"__main__\":\n",
    "    T = int(input())\n",
    "    my_list = []\n",
    "    \n",
    "    for _ in range(T):\n",
    "        command = input().split()\n",
    "        \n",
    "        if command[0] == \"push_front\":\n",
    "            my_list = [int(command[1])] + my_list\n",
    "        elif command[0] == \"push_back\":\n",
    "            my_list.append(int(command[1]))\n",
    "        elif command[0] == \"pop_front\":\n",
    "            if len(my_list) < 1:\n",
    "                print(-1)\n",
    "            else:\n",
    "                print(my_list.pop(0))\n",
    "        elif command[0] == \"pop_back\":\n",
    "            if len(my_list) < 1:\n",
    "                print(-1)\n",
    "            else:\n",
    "                print(my_list.pop(-1))\n",
    "        elif command[0] == \"size\":\n",
    "            print(len(my_list))\n",
    "        elif command[0] == \"empty\":\n",
    "            if len(my_list) == 0:\n",
    "                print(1)\n",
    "            else:\n",
    "                print(0)\n",
    "        elif command[0] == \"front\":\n",
    "            if len(my_list) < 1:\n",
    "                print(-1)\n",
    "            else:\n",
    "                print(my_list[0])\n",
    "        else:\n",
    "            if len(my_list) < 1:\n",
    "                print(-1)\n",
    "            else:\n",
    "                print(my_list[-1])"
   ]
  }
 ],
 "metadata": {
  "kernelspec": {
   "display_name": "Python 3",
   "language": "python",
   "name": "python3"
  },
  "language_info": {
   "codemirror_mode": {
    "name": "ipython",
    "version": 3
   },
   "file_extension": ".py",
   "mimetype": "text/x-python",
   "name": "python",
   "nbconvert_exporter": "python",
   "pygments_lexer": "ipython3",
   "version": "3.7.4"
  }
 },
 "nbformat": 4,
 "nbformat_minor": 4
}
