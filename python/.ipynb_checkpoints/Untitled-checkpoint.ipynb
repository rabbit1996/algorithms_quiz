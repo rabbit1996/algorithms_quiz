{
 "cells": [
  {
   "cell_type": "code",
   "execution_count": null,
   "metadata": {},
   "outputs": [],
   "source": [
    "import heapq\n",
    "def solution(s,K):\n",
    "    heap = []\n",
    "\n",
    "    for i in s:\n",
    "        heapq.heappush(heap,i)\n",
    "\n",
    "    cnt = 0\n",
    "    while len(heap) > 0:\n",
    "        if heap[0] >= K:\n",
    "            return cnt\n",
    "        a = heapq.heappop(heap)    \n",
    "        if heap != [] :\n",
    "            b = heapq.heappop(heap)\n",
    "            heapq,heappush(heap,a+(b*2))\n",
    "            answer += 1\n",
    "    return -1"
   ]
  }
 ],
 "metadata": {
  "kernelspec": {
   "display_name": "Python 3",
   "language": "python",
   "name": "python3"
  },
  "language_info": {
   "codemirror_mode": {
    "name": "ipython",
    "version": 3
   },
   "file_extension": ".py",
   "mimetype": "text/x-python",
   "name": "python",
   "nbconvert_exporter": "python",
   "pygments_lexer": "ipython3",
   "version": "3.7.4"
  }
 },
 "nbformat": 4,
 "nbformat_minor": 4
}
