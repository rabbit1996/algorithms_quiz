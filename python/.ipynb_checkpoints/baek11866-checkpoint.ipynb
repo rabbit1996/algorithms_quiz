{
 "cells": [
  {
   "cell_type": "code",
   "execution_count": 10,
   "metadata": {},
   "outputs": [
    {
     "name": "stdout",
     "output_type": "stream",
     "text": [
      "7 3\n",
      "<3, 6, 2, 7, 5, 1, 4>\n"
     ]
    }
   ],
   "source": [
    "if __name__ == '__main__':\n",
    "    N,K = map(int,input().split())\n",
    "    \n",
    "    num_list = list(range(1,N+1))\n",
    "    \n",
    "    p = \"<\"\n",
    "    num = K - 1\n",
    "    while len(num_list) > 0:\n",
    "        p += str(num_list.pop(num))\n",
    "        if len(num_list) < 1:\n",
    "            p += \">\"\n",
    "            break\n",
    "        p += \", \"\n",
    "        num = (num + K - 1)%len(num_list)\n",
    "        \n",
    "    print(p)"
   ]
  },
  {
   "cell_type": "code",
   "execution_count": null,
   "metadata": {},
   "outputs": [],
   "source": []
  }
 ],
 "metadata": {
  "kernelspec": {
   "display_name": "Python 3",
   "language": "python",
   "name": "python3"
  },
  "language_info": {
   "codemirror_mode": {
    "name": "ipython",
    "version": 3
   },
   "file_extension": ".py",
   "mimetype": "text/x-python",
   "name": "python",
   "nbconvert_exporter": "python",
   "pygments_lexer": "ipython3",
   "version": "3.7.4"
  }
 },
 "nbformat": 4,
 "nbformat_minor": 4
}
