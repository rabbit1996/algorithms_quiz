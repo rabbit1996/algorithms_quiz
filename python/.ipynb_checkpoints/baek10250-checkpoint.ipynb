{
 "cells": [
  {
   "cell_type": "code",
   "execution_count": 24,
   "metadata": {},
   "outputs": [
    {
     "name": "stdout",
     "output_type": "stream",
     "text": [
      "2\n",
      "6 12 10\n",
      "402\n",
      "30 50 72\n",
      "1203\n"
     ]
    }
   ],
   "source": [
    "if __name__ == \"__main__\":\n",
    "    T = int(input())\n",
    "    \n",
    "    for _ in range(T):\n",
    "        H,W,N = map(int, input().split())\n",
    "        room = []\n",
    "        \n",
    "        for i in range(W):\n",
    "            for j in range(H):\n",
    "                room.append((j+1)*100+i+1)\n",
    "        print(\"{}\".format(room[N-1]))\n",
    "    "
   ]
  },
  {
   "cell_type": "code",
   "execution_count": null,
   "metadata": {},
   "outputs": [],
   "source": []
  }
 ],
 "metadata": {
  "kernelspec": {
   "display_name": "Python 3",
   "language": "python",
   "name": "python3"
  },
  "language_info": {
   "codemirror_mode": {
    "name": "ipython",
    "version": 3
   },
   "file_extension": ".py",
   "mimetype": "text/x-python",
   "name": "python",
   "nbconvert_exporter": "python",
   "pygments_lexer": "ipython3",
   "version": "3.7.4"
  }
 },
 "nbformat": 4,
 "nbformat_minor": 4
}
