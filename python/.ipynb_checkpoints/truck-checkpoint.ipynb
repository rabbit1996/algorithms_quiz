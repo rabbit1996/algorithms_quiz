{
 "cells": [
  {
   "cell_type": "code",
   "execution_count": 113,
   "metadata": {},
   "outputs": [],
   "source": [
    "def solution(bridge_length, weight, truck_weights):\n",
    "    passed_t = [(0,t) for t in truck_weights]\n",
    "    wait_t = []\n",
    "    cross_t = []\n",
    "    time = 1\n",
    "    bridge_weight = 0\n",
    "    while len(cross_t) < len(truck_weights):\n",
    "        if len(passed_t) >0:\n",
    "            if bridge_weight + passed_t[0][1] <= weight:\n",
    "                bridge_weight += passed_t[0][1]\n",
    "                wait_t.append(passed_t.pop(0))\n",
    "    \n",
    "        for i in range(len(wait_t)):\n",
    "            wait_t[i] = (list(wait_t[i])[0]+1,wait_t[i][1])\n",
    "    \n",
    "        if wait_t[0][0] == bridge_length:\n",
    "            bridge_weight -= wait_t[0][1]\n",
    "            cross_t.append(wait_t.pop(0))\n",
    "        time += 1\n",
    "    return time"
   ]
  }
 ],
 "metadata": {
  "kernelspec": {
   "display_name": "Python 3",
   "language": "python",
   "name": "python3"
  },
  "language_info": {
   "codemirror_mode": {
    "name": "ipython",
    "version": 3
   },
   "file_extension": ".py",
   "mimetype": "text/x-python",
   "name": "python",
   "nbconvert_exporter": "python",
   "pygments_lexer": "ipython3",
   "version": "3.7.4"
  }
 },
 "nbformat": 4,
 "nbformat_minor": 2
}
