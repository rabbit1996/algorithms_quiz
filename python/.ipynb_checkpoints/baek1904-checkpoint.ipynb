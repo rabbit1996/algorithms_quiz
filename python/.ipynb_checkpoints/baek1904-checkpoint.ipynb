{
 "cells": [
  {
   "cell_type": "code",
   "execution_count": 17,
   "metadata": {},
   "outputs": [
    {
     "name": "stdout",
     "output_type": "stream",
     "text": [
      "4\n",
      "5\n"
     ]
    }
   ],
   "source": [
    "f1 = 1\n",
    "f2 = 2\n",
    "n = int(input())\n",
    "if n < 3:\n",
    "    print(n)\n",
    "else:\n",
    "    for _ in range(3,n+1):\n",
    "        temp = f1\n",
    "        f1 = f2\n",
    "        f2 = (temp + f1)%15762\n",
    "\n",
    "    print(f2)"
   ]
  },
  {
   "cell_type": "code",
   "execution_count": null,
   "metadata": {},
   "outputs": [],
   "source": []
  }
 ],
 "metadata": {
  "kernelspec": {
   "display_name": "Python 3",
   "language": "python",
   "name": "python3"
  },
  "language_info": {
   "codemirror_mode": {
    "name": "ipython",
    "version": 3
   },
   "file_extension": ".py",
   "mimetype": "text/x-python",
   "name": "python",
   "nbconvert_exporter": "python",
   "pygments_lexer": "ipython3",
   "version": "3.7.4"
  }
 },
 "nbformat": 4,
 "nbformat_minor": 4
}
