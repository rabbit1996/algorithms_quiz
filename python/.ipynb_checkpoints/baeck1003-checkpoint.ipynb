{
 "cells": [
  {
   "cell_type": "code",
   "execution_count": 24,
   "metadata": {},
   "outputs": [
    {
     "name": "stdout",
     "output_type": "stream",
     "text": [
      "3\n",
      "0\n",
      "1 0\n",
      "1\n",
      "0 1\n",
      "3\n",
      "1 2\n"
     ]
    }
   ],
   "source": [
    "def fibo(n, cache):\n",
    "    #base case\n",
    "    if n <2 :\n",
    "        if n not in cache:\n",
    "            cache[n] = [1,0] if n == 0 else [0,1]\n",
    "        return cache[n]\n",
    "    else:\n",
    "        if n in cache:\n",
    "            return cache[n]\n",
    "        else:\n",
    "            cache[n] = [fibo(n-1,cache)[0]+fibo(n-2,cache)[0],fibo(n-1,cache)[1]+fibo(n-2,cache)[1]]\n",
    "            return cache[n]\n",
    "\n",
    "def fibonachi(n):\n",
    "    my_list = {0:[1,0],1:[0,1]}\n",
    "    return fibo(n,my_list)\n",
    "\n",
    "\n",
    "for _ in range(int(input())):\n",
    "    print(*fibonachi(int(input())))"
   ]
  },
  {
   "cell_type": "code",
   "execution_count": 12,
   "metadata": {},
   "outputs": [
    {
     "data": {
      "text/plain": [
       "[1, 2]"
      ]
     },
     "execution_count": 12,
     "metadata": {},
     "output_type": "execute_result"
    }
   ],
   "source": [
    "my_list"
   ]
  },
  {
   "cell_type": "code",
   "execution_count": null,
   "metadata": {},
   "outputs": [],
   "source": []
  }
 ],
 "metadata": {
  "kernelspec": {
   "display_name": "Python 3",
   "language": "python",
   "name": "python3"
  },
  "language_info": {
   "codemirror_mode": {
    "name": "ipython",
    "version": 3
   },
   "file_extension": ".py",
   "mimetype": "text/x-python",
   "name": "python",
   "nbconvert_exporter": "python",
   "pygments_lexer": "ipython3",
   "version": "3.7.4"
  }
 },
 "nbformat": 4,
 "nbformat_minor": 4
}
