{
 "cells": [
  {
   "cell_type": "code",
   "execution_count": 13,
   "metadata": {},
   "outputs": [
    {
     "name": "stdout",
     "output_type": "stream",
     "text": [
      "3\n",
      "push 1\n",
      "push 2\n",
      "top\n",
      "1\n"
     ]
    }
   ],
   "source": [
    "def push(self,num):\n",
    "    self.append(num)\n",
    "def pop(self):\n",
    "    if len(self) < 1:\n",
    "        print(-1)\n",
    "    else:\n",
    "        print(self.pop(0))\n",
    "def size(self):\n",
    "    print(len(self))\n",
    "def empty(self):\n",
    "    print(1 if len(self)>0 else 0)\n",
    "def top(self):\n",
    "    if len(self) < 1:\n",
    "        print(-1)\n",
    "    else:\n",
    "        print(self[0])\n",
    "            \n",
    "if __name__ == \"__main__\":\n",
    "    \n",
    "    N = int(input())\n",
    "    \n",
    "    s1 = []\n",
    "    \n",
    "    for _ in range(N):\n",
    "        instruction = input().split()\n",
    "        if instruction[0] == \"push\":\n",
    "            eval(instruction[0])(s1,instruction[1])\n",
    "        else:\n",
    "            eval(instruction[0])(s1)\n",
    "        "
   ]
  },
  {
   "cell_type": "code",
   "execution_count": 2,
   "metadata": {},
   "outputs": [
    {
     "name": "stdout",
     "output_type": "stream",
     "text": [
      "4\n",
      "1\n"
     ]
    }
   ],
   "source": [
    "def test(num):\n",
    "    print(num*2)\n",
    "    \n",
    "eval(\"test\")(2)\n",
    "a = 1\n",
    "\n",
    "print(eval(\"a\"))"
   ]
  },
  {
   "cell_type": "code",
   "execution_count": 4,
   "metadata": {},
   "outputs": [],
   "source": [
    "s2 = Stack()"
   ]
  },
  {
   "cell_type": "code",
   "execution_count": 5,
   "metadata": {},
   "outputs": [],
   "source": [
    "s2.push(1)"
   ]
  },
  {
   "cell_type": "code",
   "execution_count": 7,
   "metadata": {},
   "outputs": [
    {
     "name": "stdout",
     "output_type": "stream",
     "text": [
      "1\n"
     ]
    }
   ],
   "source": [
    "s2.top()"
   ]
  },
  {
   "cell_type": "code",
   "execution_count": 8,
   "metadata": {},
   "outputs": [
    {
     "name": "stdout",
     "output_type": "stream",
     "text": [
      "1\n"
     ]
    }
   ],
   "source": [
    "s2.pop()"
   ]
  },
  {
   "cell_type": "code",
   "execution_count": 10,
   "metadata": {},
   "outputs": [
    {
     "name": "stdout",
     "output_type": "stream",
     "text": [
      "-1\n"
     ]
    }
   ],
   "source": [
    "s2.top()"
   ]
  },
  {
   "cell_type": "code",
   "execution_count": null,
   "metadata": {},
   "outputs": [],
   "source": []
  }
 ],
 "metadata": {
  "kernelspec": {
   "display_name": "Python 3",
   "language": "python",
   "name": "python3"
  },
  "language_info": {
   "codemirror_mode": {
    "name": "ipython",
    "version": 3
   },
   "file_extension": ".py",
   "mimetype": "text/x-python",
   "name": "python",
   "nbconvert_exporter": "python",
   "pygments_lexer": "ipython3",
   "version": "3.7.4"
  }
 },
 "nbformat": 4,
 "nbformat_minor": 4
}
