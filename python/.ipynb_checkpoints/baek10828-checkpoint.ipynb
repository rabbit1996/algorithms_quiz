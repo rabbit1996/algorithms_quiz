{
 "cells": [
  {
   "cell_type": "code",
   "execution_count": 2,
   "metadata": {},
   "outputs": [
    {
     "name": "stdout",
     "output_type": "stream",
     "text": [
      "50\n",
      "pop\n",
      "-1\n",
      "top\n",
      "-1\n",
      "size\n",
      "0\n",
      "empty\n",
      "1\n",
      "push 2\n",
      "push 3\n",
      "top\n",
      "3\n",
      "size\n",
      "2\n",
      "rmpty\n",
      "3\n",
      "empty\n",
      "0\n",
      "pop\n"
     ]
    },
    {
     "ename": "NameError",
     "evalue": "name 'start' is not defined",
     "output_type": "error",
     "traceback": [
      "\u001b[1;31m---------------------------------------------------------------------------\u001b[0m",
      "\u001b[1;31mNameError\u001b[0m                                 Traceback (most recent call last)",
      "\u001b[1;32m<ipython-input-2-060febb95aae>\u001b[0m in \u001b[0;36m<module>\u001b[1;34m\u001b[0m\n\u001b[0;32m     13\u001b[0m                 \u001b[0mprint\u001b[0m\u001b[1;33m(\u001b[0m\u001b[1;33m-\u001b[0m\u001b[1;36m1\u001b[0m\u001b[1;33m)\u001b[0m\u001b[1;33m\u001b[0m\u001b[1;33m\u001b[0m\u001b[0m\n\u001b[0;32m     14\u001b[0m             \u001b[1;32melse\u001b[0m\u001b[1;33m:\u001b[0m\u001b[1;33m\u001b[0m\u001b[1;33m\u001b[0m\u001b[0m\n\u001b[1;32m---> 15\u001b[1;33m                 \u001b[0mstart\u001b[0m \u001b[1;33m+=\u001b[0m \u001b[1;36m1\u001b[0m\u001b[1;33m\u001b[0m\u001b[1;33m\u001b[0m\u001b[0m\n\u001b[0m\u001b[0;32m     16\u001b[0m                 \u001b[0mprint\u001b[0m\u001b[1;33m(\u001b[0m\u001b[0ms1\u001b[0m\u001b[1;33m.\u001b[0m\u001b[0mpop\u001b[0m\u001b[1;33m(\u001b[0m\u001b[1;33m-\u001b[0m\u001b[1;36m1\u001b[0m\u001b[1;33m)\u001b[0m\u001b[1;33m)\u001b[0m\u001b[1;33m\u001b[0m\u001b[1;33m\u001b[0m\u001b[0m\n\u001b[0;32m     17\u001b[0m         \u001b[1;32melif\u001b[0m \u001b[0minstruction\u001b[0m\u001b[1;33m[\u001b[0m\u001b[1;36m0\u001b[0m\u001b[1;33m]\u001b[0m \u001b[1;33m==\u001b[0m \u001b[1;34m\"size\"\u001b[0m\u001b[1;33m:\u001b[0m\u001b[1;33m\u001b[0m\u001b[1;33m\u001b[0m\u001b[0m\n",
      "\u001b[1;31mNameError\u001b[0m: name 'start' is not defined"
     ]
    }
   ],
   "source": [
    "import sys\n",
    "\n",
    "input = sys.stdin.readline\n",
    "\n",
    "if __name__ == \"__main__\":\n",
    "    \n",
    "    N = int(input())\n",
    "    \n",
    "    s1 = []\n",
    "\n",
    "    for _ in range(N):\n",
    "        instruction = input().split()\n",
    "        if instruction[0] == \"push\":\n",
    "            s1.append(int(instruction[1]))\n",
    "        elif instruction[0] == \"pop\":\n",
    "            if len(s1) < 1:\n",
    "                print(-1)\n",
    "            else:\n",
    "                print(s1.pop(-1))\n",
    "        elif instruction[0] == \"size\":\n",
    "            print(len(s1))\n",
    "        elif instruction[0] == \"empty\":\n",
    "            print(1 if len(s1) < 1 else 0)\n",
    "        else:\n",
    "            if len(s1) < 1:\n",
    "                print(-1)\n",
    "            else:\n",
    "                print(s1[-1])\n",
    "        "
   ]
  }
 ],
 "metadata": {
  "kernelspec": {
   "display_name": "Python 3",
   "language": "python",
   "name": "python3"
  },
  "language_info": {
   "codemirror_mode": {
    "name": "ipython",
    "version": 3
   },
   "file_extension": ".py",
   "mimetype": "text/x-python",
   "name": "python",
   "nbconvert_exporter": "python",
   "pygments_lexer": "ipython3",
   "version": "3.7.4"
  }
 },
 "nbformat": 4,
 "nbformat_minor": 4
}
