{
 "cells": [
  {
   "cell_type": "code",
   "execution_count": 7,
   "metadata": {},
   "outputs": [
    {
     "name": "stdout",
     "output_type": "stream",
     "text": [
      "4 11\n",
      "802\n",
      "743\n",
      "457\n",
      "539\n",
      "200\n"
     ]
    }
   ],
   "source": [
    "\n",
    "if __name__ == '__main__':\n",
    "    \n",
    "    K,N = map(int,input().split())\n",
    "    \n",
    "    K_list = []\n",
    "    \n",
    "    for _ in range(K):\n",
    "        K_list.append(int(input()))\n",
    "        \n",
    "    start = 1\n",
    "    end = max(K_list)\n",
    "    \n",
    "    while end - start >= 0:\n",
    "        temp = 0\n",
    "        mid = (start+end)//2\n",
    "        for i in K_list:\n",
    "            temp += i//mid\n",
    "        if temp >= N:\n",
    "            start = mid+1\n",
    "        else:\n",
    "            end = mid - 1\n",
    "    \n",
    "    print(end)"
   ]
  },
  {
   "cell_type": "code",
   "execution_count": null,
   "metadata": {},
   "outputs": [],
   "source": []
  }
 ],
 "metadata": {
  "kernelspec": {
   "display_name": "Python 3",
   "language": "python",
   "name": "python3"
  },
  "language_info": {
   "codemirror_mode": {
    "name": "ipython",
    "version": 3
   },
   "file_extension": ".py",
   "mimetype": "text/x-python",
   "name": "python",
   "nbconvert_exporter": "python",
   "pygments_lexer": "ipython3",
   "version": "3.7.4"
  }
 },
 "nbformat": 4,
 "nbformat_minor": 4
}
