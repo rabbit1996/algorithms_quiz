{
 "cells": [
  {
   "cell_type": "code",
   "execution_count": null,
   "metadata": {},
   "outputs": [],
   "source": [
    "def solution(priorities,location):\n",
    "    count = 0\n",
    "    pri = [(i,v) for i,v in enumerate(priorities)]\n",
    "    while len(pri) > 0:\n",
    "        check = 1\n",
    "        p_out = pri.pop(0)\n",
    "        for i in pri:\n",
    "            if i[1]>p_out[1]:\n",
    "                pri.append(p_out)\n",
    "                check = 0\n",
    "                break\n",
    "        count += check\n",
    "\n",
    "        if check == 1:\n",
    "            if p_out[0] == location:\n",
    "                return count"
   ]
  }
 ],
 "metadata": {
  "kernelspec": {
   "display_name": "Python 3",
   "language": "python",
   "name": "python3"
  },
  "language_info": {
   "codemirror_mode": {
    "name": "ipython",
    "version": 3
   },
   "file_extension": ".py",
   "mimetype": "text/x-python",
   "name": "python",
   "nbconvert_exporter": "python",
   "pygments_lexer": "ipython3",
   "version": "3.7.4"
  }
 },
 "nbformat": 4,
 "nbformat_minor": 2
}
