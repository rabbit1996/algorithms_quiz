{
 "cells": [
  {
   "cell_type": "code",
   "execution_count": 5,
   "metadata": {},
   "outputs": [
    {
     "name": "stdout",
     "output_type": "stream",
     "text": [
      "120\n",
      "13\n",
      "5611\n",
      "15\n",
      "100\n",
      "14\n",
      "10\n",
      "9\n",
      "0\n"
     ]
    }
   ],
   "source": [
    "if __name__ == \"__main__\":\n",
    "    while True:\n",
    "        N = input()\n",
    "        if N == \"0\":\n",
    "            break\n",
    "        LENGTH = len(N) + 1\n",
    "        \n",
    "        for i in N:\n",
    "            if i == \"0\":\n",
    "                LENGTH += 4\n",
    "            elif i == \"1\":\n",
    "                LENGTH += 2\n",
    "            else:\n",
    "                LENGTH += 3\n",
    "        print(LENGTH)            "
   ]
  },
  {
   "cell_type": "code",
   "execution_count": null,
   "metadata": {},
   "outputs": [],
   "source": []
  }
 ],
 "metadata": {
  "kernelspec": {
   "display_name": "Python 3",
   "language": "python",
   "name": "python3"
  },
  "language_info": {
   "codemirror_mode": {
    "name": "ipython",
    "version": 3
   },
   "file_extension": ".py",
   "mimetype": "text/x-python",
   "name": "python",
   "nbconvert_exporter": "python",
   "pygments_lexer": "ipython3",
   "version": "3.7.4"
  }
 },
 "nbformat": 4,
 "nbformat_minor": 4
}
