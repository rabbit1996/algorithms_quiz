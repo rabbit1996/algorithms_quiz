{
 "cells": [
  {
   "cell_type": "code",
   "execution_count": 32,
   "metadata": {},
   "outputs": [
    {
     "name": "stdout",
     "output_type": "stream",
     "text": [
      "1 1 1\n",
      "w(1, 1, 1) = 2\n",
      "2 2 2\n",
      "w(2, 2, 2) = 4\n",
      "10 4 6\n",
      "w(10, 4, 6) = 523\n",
      "50 50 50\n",
      "w(50, 50, 50) = 1048576\n",
      "-1 -1 -1\n"
     ]
    }
   ],
   "source": [
    "def w(a,b,c,cache):\n",
    "    # base case\n",
    "    if a<=0 or b<=0 or c<=0:\n",
    "        return 1\n",
    "    \n",
    "    \n",
    "    if a in cache:\n",
    "        if b in cache[a]:\n",
    "            if c in cache [a][b]:\n",
    "                return cache[a][b][c]\n",
    "        else:\n",
    "            cache[a][b] = {}\n",
    "    else:\n",
    "        cache[a] = {}\n",
    "        cache[a][b] = {}\n",
    "        \n",
    "    if a>20 or b>20 or c>20:\n",
    "        cache[a][b][c] = w(20,20,20,cache)\n",
    "    elif a<b and b<c:\n",
    "        cache[a][b][c] = w(a,b,c-1,cache) + w(a,b-1,c-1,cache) - w(a,b-1,c,cache)\n",
    "    else:\n",
    "        cache[a][b][c] = w(a-1,b,c,cache)+w(a-1,b-1,c,cache)+w(a-1,b,c-1,cache)-w(a-1,b-1,c-1,cache)\n",
    "    return cache[a][b][c]\n",
    "\n",
    "my_list={}\n",
    "while True:\n",
    "    a,b,c = map(int, input().split())\n",
    "    if  a == -1 and b == -1 and c == -1:\n",
    "        break\n",
    "    print(\"w({}, {}, {}) = {}\".format(a,b,c,w(a,b,c,my_list)))\n"
   ]
  },
  {
   "cell_type": "code",
   "execution_count": 31,
   "metadata": {},
   "outputs": [
    {
     "data": {
      "text/plain": [
       "{1: {}}"
      ]
     },
     "execution_count": 31,
     "metadata": {},
     "output_type": "execute_result"
    }
   ],
   "source": [
    "my_list"
   ]
  },
  {
   "cell_type": "code",
   "execution_count": null,
   "metadata": {},
   "outputs": [],
   "source": []
  }
 ],
 "metadata": {
  "kernelspec": {
   "display_name": "Python 3",
   "language": "python",
   "name": "python3"
  }
 },
 "nbformat": 4,
 "nbformat_minor": 4
}
