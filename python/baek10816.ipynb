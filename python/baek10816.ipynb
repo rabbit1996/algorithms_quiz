{
 "cells": [
  {
   "cell_type": "code",
   "execution_count": 5,
   "metadata": {},
   "outputs": [
    {
     "name": "stdout",
     "output_type": "stream",
     "text": [
      "10\n",
      "6 3 2 10 10 10 -10 -10 7 3\n",
      "8\n",
      "10 9 -5 2 3 4 5 -10\n",
      "3 0 0 1 2 0 0 2\n"
     ]
    }
   ],
   "source": [
    "if __name__ == \"__main__\":\n",
    "    N = input()\n",
    "    card_list = input().split()\n",
    "    M = input()\n",
    "    count_list = input().split()\n",
    "    \n",
    "    card_cache = {}\n",
    "    \n",
    "    rst = []\n",
    "    \n",
    "    for i in card_list:\n",
    "        if i not in result:\n",
    "            card_cache[i] = 1\n",
    "        else:\n",
    "            card_cache[i] += 1\n",
    "    for j in count_list:\n",
    "        if j not in card_cache:\n",
    "            rst.append(0)\n",
    "        else:\n",
    "            rst.append(card_cache[j])\n",
    "    print(*rst)"
   ]
  }
 ],
 "metadata": {
  "kernelspec": {
   "display_name": "Python 3",
   "language": "python",
   "name": "python3"
  },
  "language_info": {
   "codemirror_mode": {
    "name": "ipython",
    "version": 3
   },
   "file_extension": ".py",
   "mimetype": "text/x-python",
   "name": "python",
   "nbconvert_exporter": "python",
   "pygments_lexer": "ipython3",
   "version": "3.7.4"
  }
 },
 "nbformat": 4,
 "nbformat_minor": 4
}
