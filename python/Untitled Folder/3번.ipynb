{
 "cells": [
  {
   "cell_type": "code",
   "execution_count": 28,
   "metadata": {},
   "outputs": [],
   "source": [
    "def taxiDriver(pickup,drop,tip):\n",
    "    fee_list = []\n",
    "    \n",
    "    pick_list = []\n",
    "    \n",
    "    for i in range(len(pickup)):\n",
    "        pick_list.append((pickup[i],drop[i],tip[i]))\n",
    "    \n",
    "    pick_list = sorted(pick_list,key = lambda x:x[0])\n",
    "    \n",
    "    for i in range(len(pick_list)):\n",
    "        cost = pick_list[i][1] -  pick_list[i][0] +  pick_list[i][2]\n",
    "        drop_pos = pick_list[i][1]\n",
    "        for j in range(i+1,len(pick_list)):\n",
    "            if pick_list[j][0] < drop_pos:\n",
    "                continue\n",
    "            cost += pick_list[j][1] -  pick_list[j][0] +  pick_list[j][2]\n",
    "            drop_pos = pick_list[j][1]\n",
    "        fee_list.append(cost)\n",
    "    return max(fee_list)"
   ]
  },
  {
   "cell_type": "code",
   "execution_count": 29,
   "metadata": {},
   "outputs": [
    {
     "data": {
      "text/plain": [
       "11"
      ]
     },
     "execution_count": 29,
     "metadata": {},
     "output_type": "execute_result"
    }
   ],
   "source": [
    "taxiDriver([4,0,5],[5,3,7],[2,1,2])"
   ]
  },
  {
   "cell_type": "code",
   "execution_count": 23,
   "metadata": {},
   "outputs": [],
   "source": [
    "test = [(1,2),(1,6),(3,4),(2,3)]"
   ]
  },
  {
   "cell_type": "code",
   "execution_count": 24,
   "metadata": {},
   "outputs": [],
   "source": [
    "test.sort()"
   ]
  },
  {
   "cell_type": "code",
   "execution_count": 25,
   "metadata": {},
   "outputs": [
    {
     "data": {
      "text/plain": [
       "[(1, 2), (1, 6), (2, 3), (3, 4)]"
      ]
     },
     "execution_count": 25,
     "metadata": {},
     "output_type": "execute_result"
    }
   ],
   "source": [
    "test"
   ]
  },
  {
   "cell_type": "code",
   "execution_count": null,
   "metadata": {},
   "outputs": [],
   "source": []
  }
 ],
 "metadata": {
  "kernelspec": {
   "display_name": "Python 3",
   "language": "python",
   "name": "python3"
  },
  "language_info": {
   "codemirror_mode": {
    "name": "ipython",
    "version": 3
   },
   "file_extension": ".py",
   "mimetype": "text/x-python",
   "name": "python",
   "nbconvert_exporter": "python",
   "pygments_lexer": "ipython3",
   "version": "3.7.4"
  }
 },
 "nbformat": 4,
 "nbformat_minor": 4
}
