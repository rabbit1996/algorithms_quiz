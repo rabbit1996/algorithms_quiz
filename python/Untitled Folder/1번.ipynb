{
 "cells": [
  {
   "cell_type": "code",
   "execution_count": 2,
   "metadata": {},
   "outputs": [],
   "source": [
    "def minCost(rows, cols, initR, initC, finalR, finalC, costRows, costCols):\n",
    "    # Write your code here\n",
    "    \n",
    "    init_pos = {\"R\":initR,\"C\":initC}\n",
    "    final_pos = {\"R\":finalR,\"C\":finalC}\n",
    "    \n",
    "    operation = {\"R\":0,\"C\":0}\n",
    "    cost_operation = {\"R\":0,\"C\":0}\n",
    "    operation[\"R\"] = 1 if init_pos[\"R\"] < final_pos[\"R\"] else -1\n",
    "    operation[\"C\"] = 1 if init_pos[\"C\"] < final_pos[\"C\"] else -1\n",
    "    \n",
    "    cost_operation[\"R\"] = 0 if init_pos[\"R\"] < final_pos[\"R\"] else -1\n",
    "    cost_operation[\"C\"] = 0 if init_pos[\"C\"] < final_pos[\"C\"] else -1\n",
    "    \n",
    "    cost = 0\n",
    "    \n",
    "    while init_pos != final_pos:\n",
    "        if init_pos[\"R\"] != final_pos[\"R\"]:\n",
    "            cost += costRows[init_pos[\"R\"]+cost_operation[\"R\"]]\n",
    "            init_pos[\"R\"] += operation[\"R\"]\n",
    "        if init_pos[\"C\"] != final_pos[\"C\"]:\n",
    "            cost += costCols[init_pos[\"C\"]+cost_operation[\"C\"]]\n",
    "            init_pos[\"C\"] += operation[\"C\"]\n",
    "            \n",
    "    return cost"
   ]
  },
  {
   "cell_type": "code",
   "execution_count": 3,
   "metadata": {},
   "outputs": [
    {
     "data": {
      "text/plain": [
       "14"
      ]
     },
     "execution_count": 3,
     "metadata": {},
     "output_type": "execute_result"
    }
   ],
   "source": [
    "minCost(4,4,1,2,3,3,[1,2,3],[7,8,9])"
   ]
  },
  {
   "cell_type": "code",
   "execution_count": 7,
   "metadata": {},
   "outputs": [],
   "source": [
    "test = (1,2)"
   ]
  },
  {
   "cell_type": "code",
   "execution_count": 9,
   "metadata": {},
   "outputs": [
    {
     "ename": "TypeError",
     "evalue": "'tuple' object does not support item assignment",
     "output_type": "error",
     "traceback": [
      "\u001b[1;31m---------------------------------------------------------------------------\u001b[0m",
      "\u001b[1;31mTypeError\u001b[0m                                 Traceback (most recent call last)",
      "\u001b[1;32m<ipython-input-9-2ab50020cd9b>\u001b[0m in \u001b[0;36m<module>\u001b[1;34m\u001b[0m\n\u001b[1;32m----> 1\u001b[1;33m \u001b[0mtest\u001b[0m\u001b[1;33m[\u001b[0m\u001b[1;36m0\u001b[0m\u001b[1;33m]\u001b[0m \u001b[1;33m=\u001b[0m \u001b[0mtest\u001b[0m\u001b[1;33m[\u001b[0m\u001b[1;36m0\u001b[0m\u001b[1;33m]\u001b[0m \u001b[1;33m+\u001b[0m\u001b[1;36m1\u001b[0m\u001b[1;33m\u001b[0m\u001b[1;33m\u001b[0m\u001b[0m\n\u001b[0m",
      "\u001b[1;31mTypeError\u001b[0m: 'tuple' object does not support item assignment"
     ]
    }
   ],
   "source": [
    "test[0] = test[0] +1 "
   ]
  },
  {
   "cell_type": "code",
   "execution_count": null,
   "metadata": {},
   "outputs": [],
   "source": []
  },
  {
   "cell_type": "code",
   "execution_count": null,
   "metadata": {},
   "outputs": [],
   "source": []
  }
 ],
 "metadata": {
  "kernelspec": {
   "display_name": "Python 3",
   "language": "python",
   "name": "python3"
  },
  "language_info": {
   "codemirror_mode": {
    "name": "ipython",
    "version": 3
   },
   "file_extension": ".py",
   "mimetype": "text/x-python",
   "name": "python",
   "nbconvert_exporter": "python",
   "pygments_lexer": "ipython3",
   "version": "3.7.4"
  }
 },
 "nbformat": 4,
 "nbformat_minor": 4
}
