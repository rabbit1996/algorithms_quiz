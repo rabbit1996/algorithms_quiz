{
 "cells": [
  {
   "cell_type": "code",
   "execution_count": 5,
   "metadata": {},
   "outputs": [],
   "source": [
    "def solution(progresses, speeds):\n",
    "    answer = []\n",
    "    return answer"
   ]
  },
  {
   "cell_type": "code",
   "execution_count": 7,
   "metadata": {},
   "outputs": [],
   "source": [
    "progresses = [93,30,55]\n",
    "speeds = [1,30,5]"
   ]
  },
  {
   "cell_type": "code",
   "execution_count": 9,
   "metadata": {},
   "outputs": [],
   "source": [
    "count = 0"
   ]
  },
  {
   "cell_type": "code",
   "execution_count": 41,
   "metadata": {},
   "outputs": [],
   "source": [
    "pro = [95,90,99,99,80,99]\n",
    "sp = [1,1,1,1,1,1]"
   ]
  },
  {
   "cell_type": "code",
   "execution_count": 42,
   "metadata": {},
   "outputs": [],
   "source": [
    "rst = []"
   ]
  },
  {
   "cell_type": "code",
   "execution_count": 43,
   "metadata": {},
   "outputs": [
    {
     "name": "stdout",
     "output_type": "stream",
     "text": [
      "100\n",
      "100\n",
      "109\n",
      "109\n",
      "100\n",
      "119\n"
     ]
    }
   ],
   "source": [
    "def solution(progresses, speeds):\n",
    "    while len(progresses)>0:\n",
    "        count = 0\n",
    "        while progresses[0] >= 100:\n",
    "            del progresses[0]\n",
    "            del speeds[0]\n",
    "            count += 1\n",
    "            if len(progresses)==0:\n",
    "                break;\n",
    "        if count>0:\n",
    "            rst.append(count)\n",
    "        if len(progresses)==0:\n",
    "                break;\n",
    "        for i in range(len(progresses)):\n",
    "            progresses[i] = progresses[i] + speeds[i]\n",
    "        if len(progresses) == 1:\n",
    "            rst.append(1)\n",
    "            break\n",
    "    return rst\n",
    "        "
   ]
  },
  {
   "cell_type": "code",
   "execution_count": 44,
   "metadata": {},
   "outputs": [
    {
     "data": {
      "text/plain": [
       "[1, 3, 2]"
      ]
     },
     "execution_count": 44,
     "metadata": {},
     "output_type": "execute_result"
    }
   ],
   "source": [
    "rst"
   ]
  },
  {
   "cell_type": "code",
   "execution_count": null,
   "metadata": {},
   "outputs": [],
   "source": [
    "def sol(progresses, speeds):\n",
    "    count = 0\n",
    "    rst = []\n",
    "    time = 0\n",
    "    while len(progresses)>0:\n",
    "        if (progresses[0] + time*speeds[0]) >= 100:\n",
    "            progresses.pop(0)\n",
    "            speeds.pop(0)\n",
    "            count += 1\n",
    "            if count >= len(progresses):\n",
    "                rst.append(count)\n",
    "                break\n",
    "        else:\n",
    "            if count>0:\n",
    "                rst.append(count)\n",
    "                count = 0\n",
    "            time += 1\n",
    "    return rst\n",
    "        "
   ]
  }
 ],
 "metadata": {
  "kernelspec": {
   "display_name": "Python 3",
   "language": "python",
   "name": "python3"
  },
  "language_info": {
   "codemirror_mode": {
    "name": "ipython",
    "version": 3
   },
   "file_extension": ".py",
   "mimetype": "text/x-python",
   "name": "python",
   "nbconvert_exporter": "python",
   "pygments_lexer": "ipython3",
   "version": "3.7.4"
  }
 },
 "nbformat": 4,
 "nbformat_minor": 2
}
