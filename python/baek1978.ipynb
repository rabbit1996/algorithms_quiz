{
 "cells": [
  {
   "cell_type": "code",
   "execution_count": 2,
   "metadata": {},
   "outputs": [
    {
     "name": "stdout",
     "output_type": "stream",
     "text": [
      "4\n",
      "1 3 5 7\n",
      "3\n"
     ]
    }
   ],
   "source": [
    "def is_prime_number(x):\n",
    "    if x == 1:\n",
    "        return 0\n",
    "    for i in range(2,int(x**(1/2))+1):\n",
    "        if x % i == 0:\n",
    "            return 0\n",
    "    return 1\n",
    "\n",
    "if __name__ == \"__main__\":\n",
    "    \n",
    "    _ = int(input())\n",
    "    my_list = map(int,input().split())\n",
    "    result = 0\n",
    "    \n",
    "    for i in my_list:\n",
    "        result += is_prime_number(i)\n",
    "    print(result)"
   ]
  },
  {
   "cell_type": "code",
   "execution_count": 5,
   "metadata": {},
   "outputs": [
    {
     "name": "stdout",
     "output_type": "stream",
     "text": [
      "[2, 3, 5, 7, 11, 13, 17, 19, 23]\n"
     ]
    }
   ],
   "source": [
    "def is_prime_number(x):\n",
    "    # 모든 수를 소수로 가정.\n",
    "    array = [True for i in range(x+1)]\n",
    "    \n",
    "    # 에라토스테네스의 체\n",
    "    for i in range(2, int(x**(1/2))+1): #2부터 n의 제곱근까지의 모든 수를 확인\n",
    "        if array[i] == True: #i가 소수인 경우\n",
    "            # i를 제외한 i 배수 지우기\n",
    "            j = 2\n",
    "            while i * j <= x:\n",
    "                array[i*j] = False\n",
    "                j += 1\n",
    "                \n",
    "    return [i for i in range(2, x+1) if array[i]]\n",
    "\n",
    "print(is_prime_number(26))\n",
    "            "
   ]
  },
  {
   "cell_type": "code",
   "execution_count": null,
   "metadata": {},
   "outputs": [],
   "source": []
  }
 ],
 "metadata": {
  "kernelspec": {
   "display_name": "Python 3",
   "language": "python",
   "name": "python3"
  },
  "language_info": {
   "codemirror_mode": {
    "name": "ipython",
    "version": 3
   },
   "file_extension": ".py",
   "mimetype": "text/x-python",
   "name": "python",
   "nbconvert_exporter": "python",
   "pygments_lexer": "ipython3",
   "version": "3.7.4"
  }
 },
 "nbformat": 4,
 "nbformat_minor": 4
}
