{
 "cells": [
  {
   "cell_type": "code",
   "execution_count": null,
   "metadata": {},
   "outputs": [],
   "source": [
    "def myfunc(pos,target):\n",
    "    diff = target - pos\n",
    "    if diff <= 3:\n",
    "        return diff\n",
    "    n = int(diff**(1/2))\n",
    "    if diff == n ** 2:\n",
    "        return 2*n-1\n",
    "    elif diff <= n ** 2 + n:\n",
    "        return 2*n\n",
    "    else:\n",
    "        return 2*n+1\n",
    "            "
   ]
  }
 ],
 "metadata": {
  "kernelspec": {
   "display_name": "Python 3",
   "language": "python",
   "name": "python3"
  },
  "language_info": {
   "codemirror_mode": {
    "name": "ipython",
    "version": 3
   },
   "file_extension": ".py",
   "mimetype": "text/x-python",
   "name": "python",
   "nbconvert_exporter": "python",
   "pygments_lexer": "ipython3",
   "version": "3.7.4"
  }
 },
 "nbformat": 4,
 "nbformat_minor": 2
}
