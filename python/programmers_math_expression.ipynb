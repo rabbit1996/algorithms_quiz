{
 "cells": [
  {
   "cell_type": "code",
   "execution_count": 19,
   "metadata": {},
   "outputs": [],
   "source": [
    "def solution(expression):\n",
    "    express_list = [[\"+\",\"-\",\"*\"],[\"+\",\"*\",\"-\"],[\"-\",\"+\",\"*\"],[\"-\",\"*\",\"+\"],\n",
    "               [\"*\",\"-\",\"+\"],[\"*\",\"+\",\"-\"]]\n",
    "    result_list = []\n",
    "    for i in express_list:\n",
    "        result_list.append(abs(myfunc(expression,i,0)))\n",
    "    return max(result_list)"
   ]
  },
  {
   "cell_type": "code",
   "execution_count": 35,
   "metadata": {},
   "outputs": [],
   "source": [
    "def solution(expression):\n",
    "    express_list = [[\"+\",\"-\",\"*\"],[\"+\",\"*\",\"-\"],[\"-\",\"+\",\"*\"],[\"-\",\"*\",\"+\"],\n",
    "               [\"*\",\"-\",\"+\"],[\"*\",\"+\",\"-\"]]\n",
    "    result_list = []\n",
    "    for i in express_list:\n",
    "        result_list.append(abs(myfunc(expression,i,0)))\n",
    "    return max(result_list)\n",
    "\n",
    "def myfunc(expression,exp_list,exp_num):\n",
    "    # base case\n",
    "    if exp_num == 2:\n",
    "        return eval(expression)\n",
    "    \n",
    "    result = []\n",
    "    \n",
    "    # 수식 기준으로 쪼개기\n",
    "    temp_list = expression.split(exp_list[exp_num])\n",
    "    \n",
    "    for i in temp_list:\n",
    "        result.append(myfunc(i,exp_list,exp_num+1))\n",
    "    \n",
    "    # 수식이 없다면\n",
    "    if len(result) == 1:\n",
    "        return result[0]\n",
    "    \n",
    "#     #수식이 있다면\n",
    "#     if exp_list[exp_num] == \"+\":\n",
    "#         temp = 0\n",
    "#         for i in result:\n",
    "#             temp += i\n",
    "#     elif exp_list[exp_num] == \"*\":\n",
    "#         temp = 1\n",
    "#         for i in result:\n",
    "#             temp *= i\n",
    "#     else:\n",
    "#         temp = result[0]\n",
    "#         for i in range(1,len(result)):\n",
    "#             temp -= result[i]\n",
    "#     return temp\n",
    "            \n",
    "    return eval(exp_list[exp_num].join(map(str,result)))\n",
    "        \n",
    "    "
   ]
  }
 ],
 "metadata": {
  "kernelspec": {
   "display_name": "Python 3",
   "language": "python",
   "name": "python3"
  },
  "language_info": {
   "codemirror_mode": {
    "name": "ipython",
    "version": 3
   },
   "file_extension": ".py",
   "mimetype": "text/x-python",
   "name": "python",
   "nbconvert_exporter": "python",
   "pygments_lexer": "ipython3",
   "version": "3.7.4"
  }
 },
 "nbformat": 4,
 "nbformat_minor": 4
}
