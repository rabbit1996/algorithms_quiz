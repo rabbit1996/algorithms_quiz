{
 "cells": [
  {
   "cell_type": "code",
   "execution_count": null,
   "metadata": {},
   "outputs": [],
   "source": [
    "##프로그래머스\n",
    "##124나라의 수\n",
    "##https://programmers.co.kr/learn/courses/30/lessons/12899"
   ]
  },
  {
   "cell_type": "code",
   "execution_count": 74,
   "metadata": {},
   "outputs": [],
   "source": [
    "def solution(n):\n",
    "    mylist = [] ##나머지를 저장하는 list\n",
    "    list_124 = [1,2,4] ## 자연수를 124에 맞춰 변환하기 위한 list\n",
    "    result = 0 ##return 값\n",
    "    \n",
    "    ## 3진수 시스템\n",
    "    while n-1 >=3: ## 0이 없는 진법\n",
    "        mylist.append((n-1)%3)\n",
    "        n = (n-1)//3\n",
    "    mylist.append(n-1)\n",
    "    \n",
    "    ##124 시스템으로 변환\n",
    "    for i,v in enumerate(mylist):\n",
    "        result += list_124[v]*10**i \n",
    "        \n",
    "    return str(result)"
   ]
  }
 ],
 "metadata": {
  "kernelspec": {
   "display_name": "Python 3",
   "language": "python",
   "name": "python3"
  },
  "language_info": {
   "codemirror_mode": {
    "name": "ipython",
    "version": 3
   },
   "file_extension": ".py",
   "mimetype": "text/x-python",
   "name": "python",
   "nbconvert_exporter": "python",
   "pygments_lexer": "ipython3",
   "version": "3.7.4"
  }
 },
 "nbformat": 4,
 "nbformat_minor": 2
}
