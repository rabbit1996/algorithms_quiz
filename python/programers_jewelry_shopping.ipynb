{
 "cells": [
  {
   "cell_type": "code",
   "execution_count": 62,
   "metadata": {},
   "outputs": [],
   "source": [
    "def solution(gems):\n",
    "    \n",
    "    target = set(gems)\n",
    "    \n",
    "    # base return\n",
    "    answer = [1,len(gems)]\n",
    "    \n",
    "    answer_list = []\n",
    "    length = len(gems)\n",
    "    start = 0\n",
    "    end = 0\n",
    "    \n",
    "    temp = {gems[0]:1}\n",
    "    while True:\n",
    "        if len(temp) == len(target):\n",
    "            if end - start + 1 < length:\n",
    "                answer = [start+1, end+1]\n",
    "                length = end - start + 1\n",
    "            if temp[gems[start]] == 1:\n",
    "                del temp[gems[start]]\n",
    "            else:\n",
    "                temp[gems[start]] -= 1\n",
    "\n",
    "            start += 1\n",
    "        else:\n",
    "            end += 1\n",
    "            if end >= len(gems):\n",
    "                break\n",
    "            if gems[end] in temp:\n",
    "                temp[gems[end]] += 1\n",
    "            else:\n",
    "                temp[gems[end]] = 1\n",
    "                \n",
    "    return answer"
   ]
  }
 ],
 "metadata": {
  "kernelspec": {
   "display_name": "Python 3",
   "language": "python",
   "name": "python3"
  },
  "language_info": {
   "codemirror_mode": {
    "name": "ipython",
    "version": 3
   },
   "file_extension": ".py",
   "mimetype": "text/x-python",
   "name": "python",
   "nbconvert_exporter": "python",
   "pygments_lexer": "ipython3",
   "version": "3.7.4"
  }
 },
 "nbformat": 4,
 "nbformat_minor": 4
}
