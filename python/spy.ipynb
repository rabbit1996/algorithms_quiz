{
 "cells": [
  {
   "cell_type": "code",
   "execution_count": 48,
   "metadata": {},
   "outputs": [],
   "source": [
    "def solution(clothes):\n",
    "    c_list = []\n",
    "    c_dict = {}\n",
    "    answer = 1\n",
    "    for i in clothes:\n",
    "        c_list.append(i[1])\n",
    "    c_list = list(set(c_list))\n",
    "\n",
    "    for i in c_list:\n",
    "        c_dict[i] = [\"NaN\"]\n",
    "        \n",
    "    for i in clothes:\n",
    "        c_dict[i[1]].append(i[0])\n",
    "        \n",
    "    for i in c_dict:\n",
    "        answer *= len(c_dict[i])\n",
    "    return (answer-1)"
   ]
  }
 ],
 "metadata": {
  "kernelspec": {
   "display_name": "Python 3",
   "language": "python",
   "name": "python3"
  },
  "language_info": {
   "codemirror_mode": {
    "name": "ipython",
    "version": 3
   },
   "file_extension": ".py",
   "mimetype": "text/x-python",
   "name": "python",
   "nbconvert_exporter": "python",
   "pygments_lexer": "ipython3",
   "version": "3.7.4"
  }
 },
 "nbformat": 4,
 "nbformat_minor": 2
}
