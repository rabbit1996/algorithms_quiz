{
 "cells": [
  {
   "cell_type": "code",
   "execution_count": 1,
   "metadata": {},
   "outputs": [],
   "source": [
    "def unboundedKnapsack(k, arr):\n",
    "    arr = set(arr) # 정렬 및 중복요소 제거\n",
    "    knapsack = [0]*(k+1) # DP , tabulation\n",
    "    \n",
    "    for i in range(1, k+1):\n",
    "        for val in arr:\n",
    "            j = i - val\n",
    "            if j >= 0:\n",
    "                added = knapsack[j] + val\n",
    "                if added <= k:\n",
    "                    knapsack[i] = max(knapsack[i],knapsack[i-1],added)\n",
    "    return max(knapsack)"
   ]
  }
 ],
 "metadata": {
  "kernelspec": {
   "display_name": "Python 3",
   "language": "python",
   "name": "python3"
  },
  "language_info": {
   "codemirror_mode": {
    "name": "ipython",
    "version": 3
   },
   "file_extension": ".py",
   "mimetype": "text/x-python",
   "name": "python",
   "nbconvert_exporter": "python",
   "pygments_lexer": "ipython3",
   "version": "3.7.4"
  }
 },
 "nbformat": 4,
 "nbformat_minor": 2
}
