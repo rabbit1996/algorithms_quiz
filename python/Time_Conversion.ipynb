{
 "cells": [
  {
   "cell_type": "code",
   "execution_count": 4,
   "metadata": {},
   "outputs": [],
   "source": [
    "def timeConversion(s):\n",
    "    time_converter = {'AM':'00','PM':'12'} # AM,PM 구분\n",
    "    \n",
    "    if s[:2] == '12': # AM 12시 = 00시  PM 12시 = 12시\n",
    "        s_hour = time_converter[s[-2:]]\n",
    "    else:\n",
    "        s_hour = \"%.2d\" % (int(s[:2]) + int(time_converter[s[-2:]])) #두자리 수로 표현 -> %.2d  ,12시가 아니라면 PM일 경우 +12시간 \n",
    "       \n",
    "    return s_hour +s[2:-2]"
   ]
  }
 ],
 "metadata": {
  "kernelspec": {
   "display_name": "Python 3",
   "language": "python",
   "name": "python3"
  },
  "language_info": {
   "codemirror_mode": {
    "name": "ipython",
    "version": 3
   },
   "file_extension": ".py",
   "mimetype": "text/x-python",
   "name": "python",
   "nbconvert_exporter": "python",
   "pygments_lexer": "ipython3",
   "version": "3.7.4"
  }
 },
 "nbformat": 4,
 "nbformat_minor": 2
}
