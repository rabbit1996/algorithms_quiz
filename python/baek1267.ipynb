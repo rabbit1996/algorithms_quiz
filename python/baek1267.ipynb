{
 "cells": [
  {
   "cell_type": "code",
   "execution_count": 9,
   "metadata": {},
   "outputs": [
    {
     "name": "stdout",
     "output_type": "stream",
     "text": [
      "3\n",
      "61 61 61\n",
      "Y M 90\n"
     ]
    }
   ],
   "source": [
    "N = int(input())\n",
    "call_time = list(map(int,input().split()))\n",
    "\n",
    "Y_TOTAL_FEE = 0\n",
    "M_TOTAL_FEE = 0\n",
    "\n",
    "for i in call_time:\n",
    "    Y_TOTAL_FEE += 10*(1+i//30)\n",
    "    M_TOTAL_FEE += 15*(1+i//60)\n",
    "\n",
    "if Y_TOTAL_FEE != M_TOTAL_FEE:\n",
    "    result = [\"Y\",str(Y_TOTAL_FEE)] if Y_TOTAL_FEE <= M_TOTAL_FEE else [\"M\",str(M_TOTAL_FEE)]\n",
    "else:\n",
    "    result = [\"Y\",\"M\",str(Y_TOTAL_FEE)]\n",
    "print(*result)"
   ]
  },
  {
   "cell_type": "code",
   "execution_count": null,
   "metadata": {},
   "outputs": [],
   "source": []
  }
 ],
 "metadata": {
  "kernelspec": {
   "display_name": "Python 3",
   "language": "python",
   "name": "python3"
  },
  "language_info": {
   "codemirror_mode": {
    "name": "ipython",
    "version": 3
   },
   "file_extension": ".py",
   "mimetype": "text/x-python",
   "name": "python",
   "nbconvert_exporter": "python",
   "pygments_lexer": "ipython3",
   "version": "3.7.4"
  }
 },
 "nbformat": 4,
 "nbformat_minor": 4
}
