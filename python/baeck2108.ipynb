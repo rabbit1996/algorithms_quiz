{
 "cells": [
  {
   "cell_type": "code",
   "execution_count": null,
   "metadata": {},
   "outputs": [],
   "source": [
    "import sys\n",
    "from collections import Counter\n",
    "def middle_num(num_list):\n",
    "    N = len(num_list)\n",
    "    return num_list[N//2]\n",
    "\n",
    "def mode(sorted_list):\n",
    "    mode_dict = {}\n",
    "    for i in sorted_list:\n",
    "        if i not in mode_dict:\n",
    "            mode_dict[i] = 1\n",
    "        else:\n",
    "            mode_dict[i] += 1\n",
    "    \n",
    "    rst = sorted(mode_dict, key = lambda x:mode_dict[x])\n",
    "    print(rst)\n",
    "    print(mode_dict)\n",
    "    \n",
    "    return rst[1]\n",
    "\n",
    "N = int(sys.stdin.readline())\n",
    "my_list = []\n",
    "for _ in range(N):\n",
    "    my_list.append(int(sys.stdin.readline()))\n",
    "cnt = Counter(my_list)\n",
    "\n",
    "my_list.sort()\n",
    "print(round(sum(my_list)/N))\n",
    "print(middle_num(my_list))\n",
    "print(cnt.most_common(1)[0][0])\n",
    "print(my_list[-1]-my_list[0])"
   ]
  },
  {
   "cell_type": "code",
   "execution_count": null,
   "metadata": {},
   "outputs": [],
   "source": []
  }
 ],
 "metadata": {
  "kernelspec": {
   "display_name": "Python 3",
   "language": "python",
   "name": "python3"
  },
  "language_info": {
   "codemirror_mode": {
    "name": "ipython",
    "version": 3
   },
   "file_extension": ".py",
   "mimetype": "text/x-python",
   "name": "python",
   "nbconvert_exporter": "python",
   "pygments_lexer": "ipython3",
   "version": "3.7.4"
  }
 },
 "nbformat": 4,
 "nbformat_minor": 4
}
