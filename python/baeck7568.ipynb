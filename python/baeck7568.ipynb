{
 "cells": [
  {
   "cell_type": "code",
   "execution_count": 5,
   "metadata": {},
   "outputs": [
    {
     "name": "stdout",
     "output_type": "stream",
     "text": [
      "5\n",
      "55 185\n",
      "58 183\n",
      "88 186\n",
      "60 175\n",
      "46 155\n",
      "2 2 1 2 5 \n"
     ]
    }
   ],
   "source": [
    "#몸무게 : x  키: y (x,y)\n",
    "\n",
    "my_list = []\n",
    "\n",
    "for _ in range(int(input())):\n",
    "    x, y = list(map(int,input().split()))\n",
    "    my_list.append((x,y))\n",
    "\n",
    "    rst = []\n",
    "for i in my_list:\n",
    "    cnt = 1\n",
    "    for j in my_list:\n",
    "        if i[0] < j[0] and i[1] < j[1]:\n",
    "            cnt += 1\n",
    "    rst.append(cnt)\n",
    "\n",
    "result = \"\"\n",
    "for i in rst:\n",
    "    result += str(i)+\" \"\n",
    "print(result)"
   ]
  },
  {
   "cell_type": "code",
   "execution_count": null,
   "metadata": {},
   "outputs": [],
   "source": []
  },
  {
   "cell_type": "code",
   "execution_count": null,
   "metadata": {},
   "outputs": [],
   "source": []
  }
 ],
 "metadata": {
  "kernelspec": {
   "display_name": "Python 3",
   "language": "python",
   "name": "python3"
  },
  "language_info": {
   "codemirror_mode": {
    "name": "ipython",
    "version": 3
   },
   "file_extension": ".py",
   "mimetype": "text/x-python",
   "name": "python",
   "nbconvert_exporter": "python",
   "pygments_lexer": "ipython3",
   "version": "3.7.4"
  }
 },
 "nbformat": 4,
 "nbformat_minor": 4
}
