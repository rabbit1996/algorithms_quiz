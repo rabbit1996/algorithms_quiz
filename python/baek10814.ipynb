{
 "cells": [
  {
   "cell_type": "code",
   "execution_count": 5,
   "metadata": {},
   "outputs": [
    {
     "name": "stdout",
     "output_type": "stream",
     "text": [
      "3\n",
      "21 AA\n",
      "22 BB\n",
      "23 CC\n",
      "21 AA\n",
      "22 BB\n",
      "23 CC\n"
     ]
    }
   ],
   "source": [
    "def my_sort(member_list):\n",
    "    member_list = sorted(member_list,key = lambda x: x[0])\n",
    "    return member_list\n",
    "\n",
    "if __name__ == \"__main__\":\n",
    "    N = int(input())\n",
    "    member_list = []\n",
    "    for _ in range(N):\n",
    "        old, name = input().split()\n",
    "        member_list.append((int(old),name))\n",
    "    result = my_sort(member_list)\n",
    "    \n",
    "    for i in result:\n",
    "        print(*i)"
   ]
  }
 ],
 "metadata": {
  "kernelspec": {
   "display_name": "Python 3",
   "language": "python",
   "name": "python3"
  },
  "language_info": {
   "codemirror_mode": {
    "name": "ipython",
    "version": 3
   },
   "file_extension": ".py",
   "mimetype": "text/x-python",
   "name": "python",
   "nbconvert_exporter": "python",
   "pygments_lexer": "ipython3",
   "version": "3.7.4"
  }
 },
 "nbformat": 4,
 "nbformat_minor": 4
}
